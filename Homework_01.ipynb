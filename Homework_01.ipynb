{
 "cells": [
  {
   "cell_type": "markdown",
   "metadata": {},
   "source": [
    "1. Поработайте с переменными, создайте несколько, выведите на экран, запросите у пользователя несколько чисел и строк и сохраните в переменные, выведите на экран."
   ]
  },
  {
   "cell_type": "code",
   "execution_count": 1,
   "metadata": {},
   "outputs": [
    {
     "name": "stdout",
     "output_type": "stream",
     "text": [
      "1 <class 'int'>\n",
      "1.0 <class 'float'>\n",
      "254\n",
      "255 <class 'int'>\n",
      "1 <class 'int'>\n",
      "введите целое число 345\n",
      "345.0 - целое число преобразовалось в вещественное\n",
      "Введите произвольный набор символов: dgdga44523g\n",
      "dgdga44523g - <class 'str'>\n",
      "<class 'bool'>\n"
     ]
    }
   ],
   "source": [
    "int_number = 1\n",
    "print(int_number, type(int_number))\n",
    "a = float(int_number)\n",
    "print(a, type(a))\n",
    "b = 0xFF\n",
    "c = 0x01\n",
    "print(b-c)\n",
    "print(b, type(b))\n",
    "print(c, type(c))\n",
    "float_var = float(input('введите целое число '))\n",
    "print(float_var, \"- целое число преобразовалось в вещественное\")\n",
    "line_var = input(\"Введите произвольный набор символов: \")\n",
    "print(f'{line_var} - {type(line_var)}')\n",
    "bool_var = True\n",
    "print(type(bool_var))"
   ]
  },
  {
   "cell_type": "markdown",
   "metadata": {},
   "source": [
    "2. Пользователь вводит время в секундах. Переведите время в часы, минуты и секунды и выведите в формате чч:мм:сс. Используйте форматирование строк."
   ]
  },
  {
   "cell_type": "code",
   "execution_count": 2,
   "metadata": {},
   "outputs": [
    {
     "name": "stdout",
     "output_type": "stream",
     "text": [
      "Введите время в секундах:7288\n",
      "Время в формате чч:мм:сс - 02:01:28\n"
     ]
    }
   ],
   "source": [
    "time = int(input(\"Введите время в секундах:\"))\n",
    "time_in_hours = time // 3600\n",
    "time_in_min = (time % 3600) // 60\n",
    "time_in_sec = time % 60\n",
    "print(\"Время в формате чч:мм:сс - {0:02}:{1:02}:{2:02}\".format(time_in_hours, time_in_min, time_in_sec))"
   ]
  },
  {
   "cell_type": "markdown",
   "metadata": {},
   "source": [
    "3. Узнайте у пользователя число n. Найдите сумму чисел n + nn + nnn. Например, пользователь ввёл число 3. Считаем 3 + 33 + 333 = 369."
   ]
  },
  {
   "cell_type": "code",
   "execution_count": 3,
   "metadata": {},
   "outputs": [
    {
     "name": "stdout",
     "output_type": "stream",
     "text": [
      "Введите число:3\n",
      "Сумма: 369\n"
     ]
    }
   ],
   "source": [
    "n = input('Введите число:')\n",
    "print(f\"Сумма: {int(n) + int(n*2) + int(n*3)}\")"
   ]
  },
  {
   "cell_type": "markdown",
   "metadata": {},
   "source": [
    "4. Пользователь вводит целое положительное число. Найдите самую большую цифру в числе. Для решения используйте цикл while и арифметические операции."
   ]
  },
  {
   "cell_type": "code",
   "execution_count": 4,
   "metadata": {},
   "outputs": [
    {
     "name": "stdout",
     "output_type": "stream",
     "text": [
      "Введите целое положительное число: 45831\n",
      "8\n"
     ]
    }
   ],
   "source": [
    "n = int(input(\"Введите целое положительное число: \"))\n",
    "max_result = n % 10\n",
    "while n // 10:\n",
    "    n //= 10\n",
    "    if n % 10 > max_result:\n",
    "        max_result = n % 10\n",
    "print(max_result)"
   ]
  },
  {
   "cell_type": "markdown",
   "metadata": {},
   "source": [
    "5. Запросите у пользователя значения выручки и издержек фирмы. Определите, с каким финансовым результатом работает фирма (прибыль — выручка больше издержек, или убыток — издержки больше выручки). Выведите соответствующее сообщение. Если фирма отработала с прибылью, вычислите рентабельность выручки (соотношение прибыли к выручке). Далее запросите численность сотрудников фирмы и определите прибыль фирмы в расчете на одного сотрудника."
   ]
  },
  {
   "cell_type": "code",
   "execution_count": 5,
   "metadata": {},
   "outputs": [
    {
     "name": "stdout",
     "output_type": "stream",
     "text": [
      "Введите значение выручки 8672\n",
      "Введите значение издержек 964\n",
      "Прибыль составила 8672.0, рентабильность выручки 0.889\n",
      "Введите кол-во сотрудников 34\n",
      "Прибыль в расчете на одного сотрудника: 226.7059\n"
     ]
    }
   ],
   "source": [
    "revenue = float(input(\"Введите значение выручки \"))\n",
    "expenses = float(input(\"Введите значение издержек \"))\n",
    "inc_los_value = revenue - expenses\n",
    "if inc_los_value > 0:\n",
    "    print(\"Прибыль составила {}, рентабильность выручки {:.3f}\".format(revenue, inc_los_value/revenue))\n",
    "    employee_number = int(input(\"Введите кол-во сотрудников \"))\n",
    "    print(\"Прибыль в расчете на одного сотрудника: {:.4f}\".format(inc_los_value / employee_number))\n",
    "else:\n",
    "    print(\"Убыток {}\".format(expenses))"
   ]
  },
  {
   "cell_type": "markdown",
   "metadata": {},
   "source": [
    "6. Спортсмен занимается ежедневными пробежками. В первый день его результат составил a километров. Каждый день спортсмен увеличивал результат на 10 % относительно предыдущего. Требуется определить номер дня, на который общий результат спортсмена составить не менее b километров. Программа должна принимать значения параметров a и b и выводить одно натуральное число — номер дня.\n",
    "\n",
    "Например: a = 2, b = 3.\n",
    "\n",
    "Результат:\n",
    "\n",
    "1-й день: 2\n",
    "\n",
    "2-й день: 2,2\n",
    "\n",
    "3-й день: 2,42\n",
    "\n",
    "4-й день: 2,66\n",
    "\n",
    "5-й день: 2,93\n",
    "\n",
    "6-й день: 3,22\n",
    "\n",
    "Ответ: на 6-й день спортсмен достиг результата — не менее 3 км."
   ]
  },
  {
   "cell_type": "code",
   "execution_count": 6,
   "metadata": {},
   "outputs": [
    {
     "name": "stdout",
     "output_type": "stream",
     "text": [
      "Введите кол-во километров в первый день пробежки: 2\n",
      "Введите кол-во километров на n-ый день: 3\n",
      "На 6 день спортсмен достиг результата - не менее 3 км.\n"
     ]
    }
   ],
   "source": [
    "a = int(input(\"Введите кол-во километров в первый день пробежки: \"))\n",
    "b = int(input(\"Введите кол-во километров на n-ый день: \"))\n",
    "k = 1.1\n",
    "n = 1\n",
    "while True:\n",
    "    a *= k\n",
    "    n += 1\n",
    "    if a > b:\n",
    "        break\n",
    "print(f\"На {n} день спортсмен достиг результата - не менее {b} км.\")"
   ]
  }
 ],
 "metadata": {
  "kernelspec": {
   "display_name": "Python 3",
   "language": "python",
   "name": "python3"
  },
  "language_info": {
   "codemirror_mode": {
    "name": "ipython",
    "version": 3
   },
   "file_extension": ".py",
   "mimetype": "text/x-python",
   "name": "python",
   "nbconvert_exporter": "python",
   "pygments_lexer": "ipython3",
   "version": "3.8.7"
  }
 },
 "nbformat": 4,
 "nbformat_minor": 4
}
